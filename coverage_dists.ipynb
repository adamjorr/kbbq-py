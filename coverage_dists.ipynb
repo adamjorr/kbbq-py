{
 "cells": [
  {
   "cell_type": "code",
   "execution_count": 1,
   "metadata": {},
   "outputs": [],
   "source": [
    "import pysam\n",
    "import kbbq.bloom\n",
    "import kbbq.read\n",
    "import khmer\n",
    "import numpy as np\n",
    "import scipy.stats as ss\n",
    "import collections"
   ]
  },
  {
   "cell_type": "code",
   "execution_count": 2,
   "metadata": {},
   "outputs": [],
   "source": [
    "ksize = 32\n",
    "memstr = '2G'\n",
    "maxmem = khmer.khmer_args.memory_setting(memstr)\n",
    "readsfile = 'tests/data/reads.fq'\n",
    "\n",
    "def create_countgraph():\n",
    "    fake_args = collections.namedtuple('fake_args', ['max_memory_usage', 'n_tables'])\n",
    "    fake = fake_args(max_memory_usage = maxmem, n_tables = 4)\n",
    "    tablesize = khmer.khmer_args.calculate_graphsize(fake, 'countgraph', multiplier = 1.0)\n",
    "    countgraph = khmer.Countgraph(ksize, tablesize, fake.n_tables)\n",
    "    return countgraph"
   ]
  },
  {
   "cell_type": "code",
   "execution_count": 3,
   "metadata": {},
   "outputs": [
    {
     "name": "stdout",
     "output_type": "stream",
     "text": [
      "5.884812846252029e-12\n"
     ]
    }
   ],
   "source": [
    "countgraph = create_countgraph()\n",
    "countgraph.consume_seqfile(readsfile)\n",
    "count_fpr = khmer.calc_expected_collisions(countgraph, force = False, max_false_pos = .15)\n",
    "print(count_fpr)"
   ]
  },
  {
   "cell_type": "code",
   "execution_count": 5,
   "metadata": {},
   "outputs": [
    {
     "name": "stdout",
     "output_type": "stream",
     "text": [
      "5.884812846252029e-12\n"
     ]
    }
   ],
   "source": [
    "nodegraph = kbbq.bloom.create_empty_nodegraph(ksize = ksize, max_mem = memstr)\n",
    "node_fpr = khmer.calc_expected_collisions(countgraph, force = False, max_false_pos = .15)\n",
    "print(node_fpr)"
   ]
  },
  {
   "cell_type": "code",
   "execution_count": null,
   "metadata": {},
   "outputs": [],
   "source": [
    "def count_from_file(filename, graph, sampling_rate):\n",
    "    for read in pysam.FastxFile(filename, 'r'):\n",
    "        r = kbbq.read.ReadData.from_fastq(r)\n",
    "        kbbq.bloom.count_read(r, nodegraph, sampling_rate)"
   ]
  },
  {
   "cell_type": "code",
   "execution_count": null,
   "metadata": {},
   "outputs": [],
   "source": [
    "count_from_file(readsfile, nodegraph, sampling_rate)"
   ]
  },
  {
   "cell_type": "code",
   "execution_count": null,
   "metadata": {},
   "outputs": [],
   "source": []
  }
 ],
 "metadata": {
  "kernelspec": {
   "display_name": "Python 3",
   "language": "python",
   "name": "python3"
  },
  "language_info": {
   "codemirror_mode": {
    "name": "ipython",
    "version": 3
   },
   "file_extension": ".py",
   "mimetype": "text/x-python",
   "name": "python",
   "nbconvert_exporter": "python",
   "pygments_lexer": "ipython3",
   "version": "3.7.3"
  }
 },
 "nbformat": 4,
 "nbformat_minor": 2
}
